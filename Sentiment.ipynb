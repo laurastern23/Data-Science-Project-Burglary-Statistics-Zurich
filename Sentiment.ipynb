{
 "cells": [
  {
   "cell_type": "code",
   "execution_count": 15,
   "metadata": {},
   "outputs": [
    {
     "name": "stdout",
     "output_type": "stream",
     "text": [
      "Kommentar nicht gefunden\n"
     ]
    }
   ],
   "source": [
    "import requests\n",
    "import numpy as np\n",
    "from bs4 import BeautifulSoup\n",
    "\n",
    "# Die URL der Webseite\n",
    "url = 'https://www.20min.ch/'\n",
    "\n",
    "# Download the page\n",
    "response = requests.get('https://www.20min.ch/')\n",
    "html_content = response.text\n",
    "\n",
    "soup = BeautifulSoup(html_content, 'html.parser')\n",
    "\n",
    "comment_section = soup.select('#commentSection')\n",
    "\n",
    "if comment_section:\n",
    "    comments = comment_sectoin[0].find_all('div', class_='comments')\n",
    "    for comment in comments:\n",
    "        print(comment.text)\n",
    "else:\n",
    "    print(\"Kommentar nicht gefunden\")"
   ]
  }
 ],
 "metadata": {
  "kernelspec": {
   "display_name": "Python 3",
   "language": "python",
   "name": "python3"
  },
  "language_info": {
   "codemirror_mode": {
    "name": "ipython",
    "version": 3
   },
   "file_extension": ".py",
   "mimetype": "text/x-python",
   "name": "python",
   "nbconvert_exporter": "python",
   "pygments_lexer": "ipython3",
   "version": "3.11.5"
  }
 },
 "nbformat": 4,
 "nbformat_minor": 2
}
